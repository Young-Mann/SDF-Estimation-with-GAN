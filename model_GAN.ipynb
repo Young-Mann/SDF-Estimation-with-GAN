{
 "cells": [
  {
   "cell_type": "code",
   "execution_count": null,
   "metadata": {
    "scrolled": true
   },
   "outputs": [],
   "source": [
    "import os\n",
    "import json\n",
    "import numpy as np\n",
    "import pandas as pd\n",
    "import seaborn as sns\n",
    "import tensorflow as tf\n",
    "\n",
    "from src.data import data_layer\n",
    "from src.model.model_utils import calculateStatistics\n",
    "from src.model.model_GAN import FeedForwardModelWithNA_GAN_Ensembled\n",
    "from src.model.model_RtnFcst import FeedForwardModelWithNA_Return_Ensembled\n",
    "from src.utils import deco_print\n",
    "from src.utils import load_dataframe\n",
    "from src.utils import sharpe"
   ]
  },
  {
   "cell_type": "markdown",
   "metadata": {},
   "source": [
    "##### Model Configurations"
   ]
  },
  {
   "cell_type": "code",
   "execution_count": 8,
   "metadata": {
    "collapsed": true,
    "jupyter": {
     "outputs_hidden": true
    }
   },
   "outputs": [],
   "source": [
    "task_id = 1\n",
    "logdirs = ['output/Task-%d-Trial-%d/sharpe' %(task_id, k) for k in range(9)]\n",
    "with open('config/config.json') as file:\n",
    "    config = json.load(file)\n",
    "    \n",
    "logdirs_RF = ['output_RF/Task-%d-Trial-%d' %(task_id, k) for k in range(9)]\n",
    "with open('config_RF/config_RF_%d.json'%(task_id)) as file:\n",
    "    config_RF = json.load(file)"
   ]
  },
  {
   "cell_type": "markdown",
   "metadata": {},
   "source": [
    "##### Load Data"
   ]
  },
  {
   "cell_type": "code",
   "execution_count": 9,
   "metadata": {
    "collapsed": true,
    "jupyter": {
     "outputs_hidden": true
    }
   },
   "outputs": [
    {
     "ename": "FileNotFoundError",
     "evalue": "[Errno 2] No such file or directory: 'datasets/char/Char_train.npz'",
     "output_type": "error",
     "traceback": [
      "\u001b[1;31m---------------------------------------------------------------------------\u001b[0m",
      "\u001b[1;31mFileNotFoundError\u001b[0m                         Traceback (most recent call last)",
      "\u001b[1;32mc:\\Users\\Redd\\Downloads\\Deep_Learning_Asset_Pricing-main\\Deep_Learning_Asset_Pricing-main\\model_GAN.ipynb Cell 5'\u001b[0m in \u001b[0;36m<cell line: 1>\u001b[1;34m()\u001b[0m\n\u001b[1;32m----> <a href='vscode-notebook-cell:/c%3A/Users/Redd/Downloads/Deep_Learning_Asset_Pricing-main/Deep_Learning_Asset_Pricing-main/model_GAN.ipynb#ch0000004?line=0'>1</a>\u001b[0m dl \u001b[39m=\u001b[39m data_layer\u001b[39m.\u001b[39;49mDataInRamInputLayer(config[\u001b[39m'\u001b[39;49m\u001b[39mindividual_feature_file\u001b[39;49m\u001b[39m'\u001b[39;49m],\n\u001b[0;32m      <a href='vscode-notebook-cell:/c%3A/Users/Redd/Downloads/Deep_Learning_Asset_Pricing-main/Deep_Learning_Asset_Pricing-main/model_GAN.ipynb#ch0000004?line=1'>2</a>\u001b[0m                                     pathMacroFeature\u001b[39m=\u001b[39;49mconfig[\u001b[39m'\u001b[39;49m\u001b[39mmacro_feature_file\u001b[39;49m\u001b[39m'\u001b[39;49m])\n\u001b[0;32m      <a href='vscode-notebook-cell:/c%3A/Users/Redd/Downloads/Deep_Learning_Asset_Pricing-main/Deep_Learning_Asset_Pricing-main/model_GAN.ipynb#ch0000004?line=2'>3</a>\u001b[0m meanMacroFeature, stdMacroFeature \u001b[39m=\u001b[39m dl\u001b[39m.\u001b[39mgetMacroFeatureMeanStd()\n\u001b[0;32m      <a href='vscode-notebook-cell:/c%3A/Users/Redd/Downloads/Deep_Learning_Asset_Pricing-main/Deep_Learning_Asset_Pricing-main/model_GAN.ipynb#ch0000004?line=3'>4</a>\u001b[0m dl_valid \u001b[39m=\u001b[39m data_layer\u001b[39m.\u001b[39mDataInRamInputLayer(config[\u001b[39m'\u001b[39m\u001b[39mindividual_feature_file_valid\u001b[39m\u001b[39m'\u001b[39m],\n\u001b[0;32m      <a href='vscode-notebook-cell:/c%3A/Users/Redd/Downloads/Deep_Learning_Asset_Pricing-main/Deep_Learning_Asset_Pricing-main/model_GAN.ipynb#ch0000004?line=4'>5</a>\u001b[0m                                           pathMacroFeature\u001b[39m=\u001b[39mconfig[\u001b[39m'\u001b[39m\u001b[39mmacro_feature_file_valid\u001b[39m\u001b[39m'\u001b[39m],\n\u001b[0;32m      <a href='vscode-notebook-cell:/c%3A/Users/Redd/Downloads/Deep_Learning_Asset_Pricing-main/Deep_Learning_Asset_Pricing-main/model_GAN.ipynb#ch0000004?line=5'>6</a>\u001b[0m                                           meanMacroFeature\u001b[39m=\u001b[39mmeanMacroFeature,\n\u001b[0;32m      <a href='vscode-notebook-cell:/c%3A/Users/Redd/Downloads/Deep_Learning_Asset_Pricing-main/Deep_Learning_Asset_Pricing-main/model_GAN.ipynb#ch0000004?line=6'>7</a>\u001b[0m                                           stdMacroFeature\u001b[39m=\u001b[39mstdMacroFeature)\n",
      "File \u001b[1;32mc:\\Users\\Redd\\Downloads\\Deep_Learning_Asset_Pricing-main\\Deep_Learning_Asset_Pricing-main\\src\\data\\data_layer.py:42\u001b[0m, in \u001b[0;36mDataInRamInputLayer.__init__\u001b[1;34m(self, pathIndividualFeature, pathMacroFeature, macroIdx, meanMacroFeature, stdMacroFeature, normalizeMacroFeature)\u001b[0m\n\u001b[0;32m     <a href='file:///c%3A/Users/Redd/Downloads/Deep_Learning_Asset_Pricing-main/Deep_Learning_Asset_Pricing-main/src/data/data_layer.py?line=33'>34</a>\u001b[0m \u001b[39mdef\u001b[39;00m \u001b[39m__init__\u001b[39m(\u001b[39mself\u001b[39m, \n\u001b[0;32m     <a href='file:///c%3A/Users/Redd/Downloads/Deep_Learning_Asset_Pricing-main/Deep_Learning_Asset_Pricing-main/src/data/data_layer.py?line=34'>35</a>\u001b[0m \t\t\tpathIndividualFeature, \n\u001b[0;32m     <a href='file:///c%3A/Users/Redd/Downloads/Deep_Learning_Asset_Pricing-main/Deep_Learning_Asset_Pricing-main/src/data/data_layer.py?line=35'>36</a>\u001b[0m \t\t\tpathMacroFeature\u001b[39m=\u001b[39m\u001b[39mNone\u001b[39;00m,\n\u001b[1;32m   (...)\u001b[0m\n\u001b[0;32m     <a href='file:///c%3A/Users/Redd/Downloads/Deep_Learning_Asset_Pricing-main/Deep_Learning_Asset_Pricing-main/src/data/data_layer.py?line=38'>39</a>\u001b[0m \t\t\tstdMacroFeature\u001b[39m=\u001b[39m\u001b[39mNone\u001b[39;00m, \n\u001b[0;32m     <a href='file:///c%3A/Users/Redd/Downloads/Deep_Learning_Asset_Pricing-main/Deep_Learning_Asset_Pricing-main/src/data/data_layer.py?line=39'>40</a>\u001b[0m \t\t\tnormalizeMacroFeature\u001b[39m=\u001b[39m\u001b[39mTrue\u001b[39;00m):\n\u001b[0;32m     <a href='file:///c%3A/Users/Redd/Downloads/Deep_Learning_Asset_Pricing-main/Deep_Learning_Asset_Pricing-main/src/data/data_layer.py?line=40'>41</a>\u001b[0m \t\u001b[39mself\u001b[39m\u001b[39m.\u001b[39m_UNK \u001b[39m=\u001b[39m \u001b[39m-\u001b[39m\u001b[39m99.99\u001b[39m\n\u001b[1;32m---> <a href='file:///c%3A/Users/Redd/Downloads/Deep_Learning_Asset_Pricing-main/Deep_Learning_Asset_Pricing-main/src/data/data_layer.py?line=41'>42</a>\u001b[0m \t\u001b[39mself\u001b[39;49m\u001b[39m.\u001b[39;49m_load_individual_feature(pathIndividualFeature)\n\u001b[0;32m     <a href='file:///c%3A/Users/Redd/Downloads/Deep_Learning_Asset_Pricing-main/Deep_Learning_Asset_Pricing-main/src/data/data_layer.py?line=42'>43</a>\u001b[0m \t\u001b[39mself\u001b[39m\u001b[39m.\u001b[39m_load_macro_feature(pathMacroFeature, macroIdx, meanMacroFeature, stdMacroFeature, normalizeMacroFeature)\n\u001b[0;32m     <a href='file:///c%3A/Users/Redd/Downloads/Deep_Learning_Asset_Pricing-main/Deep_Learning_Asset_Pricing-main/src/data/data_layer.py?line=43'>44</a>\u001b[0m \t\u001b[39mself\u001b[39m\u001b[39m.\u001b[39m_firm_char \u001b[39m=\u001b[39m FirmChar()\n",
      "File \u001b[1;32mc:\\Users\\Redd\\Downloads\\Deep_Learning_Asset_Pricing-main\\Deep_Learning_Asset_Pricing-main\\src\\data\\data_layer.py:52\u001b[0m, in \u001b[0;36mDataInRamInputLayer._load_individual_feature\u001b[1;34m(self, pathIndividualFeature)\u001b[0m\n\u001b[0;32m     <a href='file:///c%3A/Users/Redd/Downloads/Deep_Learning_Asset_Pricing-main/Deep_Learning_Asset_Pricing-main/src/data/data_layer.py?line=50'>51</a>\u001b[0m \u001b[39mdef\u001b[39;00m \u001b[39m_load_individual_feature\u001b[39m(\u001b[39mself\u001b[39m, pathIndividualFeature):\n\u001b[1;32m---> <a href='file:///c%3A/Users/Redd/Downloads/Deep_Learning_Asset_Pricing-main/Deep_Learning_Asset_Pricing-main/src/data/data_layer.py?line=51'>52</a>\u001b[0m \ttmp \u001b[39m=\u001b[39m np\u001b[39m.\u001b[39;49mload(pathIndividualFeature)\n\u001b[0;32m     <a href='file:///c%3A/Users/Redd/Downloads/Deep_Learning_Asset_Pricing-main/Deep_Learning_Asset_Pricing-main/src/data/data_layer.py?line=52'>53</a>\u001b[0m \tdata \u001b[39m=\u001b[39m tmp[\u001b[39m'\u001b[39m\u001b[39mdata\u001b[39m\u001b[39m'\u001b[39m]\n\u001b[0;32m     <a href='file:///c%3A/Users/Redd/Downloads/Deep_Learning_Asset_Pricing-main/Deep_Learning_Asset_Pricing-main/src/data/data_layer.py?line=54'>55</a>\u001b[0m \t\u001b[39m### Data Stored Here\t\t\u001b[39;00m\n",
      "File \u001b[1;32mC:\\Python310\\lib\\site-packages\\numpy\\lib\\npyio.py:407\u001b[0m, in \u001b[0;36mload\u001b[1;34m(file, mmap_mode, allow_pickle, fix_imports, encoding)\u001b[0m\n\u001b[0;32m    <a href='file:///c%3A/Python310/lib/site-packages/numpy/lib/npyio.py?line=404'>405</a>\u001b[0m     own_fid \u001b[39m=\u001b[39m \u001b[39mFalse\u001b[39;00m\n\u001b[0;32m    <a href='file:///c%3A/Python310/lib/site-packages/numpy/lib/npyio.py?line=405'>406</a>\u001b[0m \u001b[39melse\u001b[39;00m:\n\u001b[1;32m--> <a href='file:///c%3A/Python310/lib/site-packages/numpy/lib/npyio.py?line=406'>407</a>\u001b[0m     fid \u001b[39m=\u001b[39m stack\u001b[39m.\u001b[39menter_context(\u001b[39mopen\u001b[39;49m(os_fspath(file), \u001b[39m\"\u001b[39;49m\u001b[39mrb\u001b[39;49m\u001b[39m\"\u001b[39;49m))\n\u001b[0;32m    <a href='file:///c%3A/Python310/lib/site-packages/numpy/lib/npyio.py?line=407'>408</a>\u001b[0m     own_fid \u001b[39m=\u001b[39m \u001b[39mTrue\u001b[39;00m\n\u001b[0;32m    <a href='file:///c%3A/Python310/lib/site-packages/numpy/lib/npyio.py?line=409'>410</a>\u001b[0m \u001b[39m# Code to distinguish from NumPy binary files and pickles.\u001b[39;00m\n",
      "\u001b[1;31mFileNotFoundError\u001b[0m: [Errno 2] No such file or directory: 'datasets/char/Char_train.npz'"
     ]
    }
   ],
   "source": [
    "dl = data_layer.DataInRamInputLayer(config['individual_feature_file'],\n",
    "                                    pathMacroFeature=config['macro_feature_file'])\n",
    "meanMacroFeature, stdMacroFeature = dl.getMacroFeatureMeanStd()\n",
    "dl_valid = data_layer.DataInRamInputLayer(config['individual_feature_file_valid'],\n",
    "                                          pathMacroFeature=config['macro_feature_file_valid'],\n",
    "                                          meanMacroFeature=meanMacroFeature,\n",
    "                                          stdMacroFeature=stdMacroFeature)\n",
    "dl_test = data_layer.DataInRamInputLayer(config['individual_feature_file_test'],\n",
    "                                         pathMacroFeature=config['macro_feature_file_test'],\n",
    "                                         meanMacroFeature=meanMacroFeature,\n",
    "                                         stdMacroFeature=stdMacroFeature)"
   ]
  },
  {
   "cell_type": "markdown",
   "metadata": {},
   "source": [
    "##### Load Model"
   ]
  },
  {
   "cell_type": "code",
   "execution_count": 4,
   "metadata": {
    "collapsed": true,
    "jupyter": {
     "outputs_hidden": true
    }
   },
   "outputs": [],
   "source": [
    "tf.reset_default_graph()\n",
    "global_step = tf.train.get_or_create_global_step()\n",
    "model = FeedForwardModelWithNA_GAN_Ensembled(logdirs, config, 'test', config['tSize'], global_step=global_step)\n",
    "model_valid = FeedForwardModelWithNA_GAN_Ensembled(logdirs, config, 'test', config['tSize_valid'], force_var_reuse=True, global_step=global_step)\n",
    "model_test = FeedForwardModelWithNA_GAN_Ensembled(logdirs, config, 'test', config['tSize_test'], force_var_reuse=True, global_step=global_step)\n",
    "model_plot = FeedForwardModelWithNA_GAN_Ensembled(logdirs, config, 'plot', 1, force_var_reuse=True, global_step=global_step)\n",
    "gpu_options = tf.GPUOptions(allow_growth=True)\n",
    "sess_config = tf.ConfigProto(gpu_options=gpu_options)\n",
    "sess = tf.Session(config=sess_config)"
   ]
  },
  {
   "cell_type": "code",
   "execution_count": null,
   "metadata": {
    "collapsed": true,
    "jupyter": {
     "outputs_hidden": true
    }
   },
   "outputs": [],
   "source": [
    "INITIAL_train = model.getZeroInitialState()\n",
    "INITIAL_valid = model.getNextInitialState(sess, dl, initial_state=INITIAL_train)\n",
    "INITIAL_test = model_valid.getNextInitialState(sess, dl_valid, initial_state=INITIAL_valid)"
   ]
  },
  {
   "cell_type": "markdown",
   "metadata": {},
   "source": [
    "##### Model Performance"
   ]
  },
  {
   "cell_type": "code",
   "execution_count": null,
   "metadata": {
    "collapsed": true,
    "jupyter": {
     "outputs_hidden": true
    }
   },
   "outputs": [],
   "source": [
    "w = model.getWeightWithData(sess, dl, initial_state=INITIAL_train, normalized=True)\n",
    "w_valid = model_valid.getWeightWithData(sess, dl_valid, initial_state=INITIAL_valid, normalized=True)\n",
    "w_test = model_test.getWeightWithData(sess, dl_test, initial_state=INITIAL_test, normalized=True)"
   ]
  },
  {
   "cell_type": "code",
   "execution_count": null,
   "metadata": {
    "collapsed": true,
    "jupyter": {
     "outputs_hidden": true
    }
   },
   "outputs": [],
   "source": [
    "Ftrain = model.getNormalizedSDFFactor(sess, dl, initial_state=INITIAL_train)\n",
    "Fvalid = model_valid.getNormalizedSDFFactor(sess, dl_valid, initial_state=INITIAL_valid)\n",
    "Ftest = model_test.getNormalizedSDFFactor(sess, dl_test, initial_state=INITIAL_test)\n",
    "sdf_norm_ensemble = np.concatenate([Ftrain, Fvalid, Ftest])\n",
    "np.save(os.path.join(logdir, 'sdf_normalized_ensemble.npy'), sdf_norm_ensemble)"
   ]
  },
  {
   "cell_type": "code",
   "execution_count": 8,
   "metadata": {
    "scrolled": true
   },
   "outputs": [
    {
     "name": "stdout",
     "output_type": "stream",
     "text": [
      ">==================> SDF Portfolio Sharpe Ratio: Train 3.02\tValid 1.39\tTest 0.77\n"
     ]
    }
   ],
   "source": [
    "SR_train = sharpe(Ftrain)\n",
    "SR_valid = sharpe(Fvalid)\n",
    "SR_test = sharpe(Ftest)\n",
    "deco_print('SDF Portfolio Sharpe Ratio: Train %0.2f\\tValid %0.2f\\tTest %0.2f' %(SR_train, SR_valid, SR_test))"
   ]
  },
  {
   "cell_type": "markdown",
   "metadata": {},
   "source": [
    "##### Predictive Performance"
   ]
  },
  {
   "cell_type": "code",
   "execution_count": 9,
   "metadata": {
    "collapsed": true,
    "jupyter": {
     "outputs_hidden": true
    }
   },
   "outputs": [],
   "source": [
    "tf.reset_default_graph()\n",
    "global_step = tf.train.get_or_create_global_step()\n",
    "model_plot_RF = FeedForwardModelWithNA_Return_Ensembled(logdirs_RF, config_RF, 'plot', global_step=global_step)\n",
    "gpu_options = tf.GPUOptions(allow_growth=True)\n",
    "sess_config = tf.ConfigProto(gpu_options=gpu_options)\n",
    "sess = tf.Session(config=sess_config)"
   ]
  },
  {
   "cell_type": "code",
   "execution_count": 10,
   "metadata": {
    "collapsed": true,
    "jupyter": {
     "outputs_hidden": true
    }
   },
   "outputs": [],
   "source": [
    "dl_RF_train = data_layer.DataInRamInputLayer(config['individual_feature_file'])\n",
    "dl_RF_valid = data_layer.DataInRamInputLayer(config['individual_feature_file_valid'])\n",
    "dl_RF_test = data_layer.DataInRamInputLayer(config['individual_feature_file_test'])"
   ]
  },
  {
   "cell_type": "code",
   "execution_count": null,
   "metadata": {
    "collapsed": true,
    "jupyter": {
     "outputs_hidden": true
    }
   },
   "outputs": [],
   "source": [
    "beta_train = model_plot_RF.getPrediction(sess, dl_RF_train)\n",
    "beta_valid = model_plot_RF.getPrediction(sess, dl_RF_valid)\n",
    "beta_test = model_plot_RF.getPrediction(sess, dl_RF_test)"
   ]
  },
  {
   "cell_type": "code",
   "execution_count": 12,
   "metadata": {
    "collapsed": true,
    "jupyter": {
     "outputs_hidden": true
    }
   },
   "outputs": [],
   "source": [
    "# EV, XS-R2\n",
    "EV_train, XSR2_train, WXSR2_train = calculateStatistics(beta_train, dl)\n",
    "EV_valid, XSR2_valid, WXSR2_valid = calculateStatistics(beta_valid, dl_valid)\n",
    "EV_test, XSR2_test, WXSR2_test = calculateStatistics(beta_test, dl_test)"
   ]
  },
  {
   "cell_type": "code",
   "execution_count": 13,
   "metadata": {},
   "outputs": [
    {
     "name": "stdout",
     "output_type": "stream",
     "text": [
      ">==================> Explained Variation: Train 0.18\tValid 0.08\tTest 0.07\n",
      ">==================> XS-R2: Train -0.02\tValid 0.04\tTest 0.04\n",
      ">==================> (Weighted) XS-R2: Train 0.12\tValid 0.00\tTest 0.22\n"
     ]
    }
   ],
   "source": [
    "deco_print('Explained Variation: Train %0.2f\\tValid %0.2f\\tTest %0.2f' %(EV_train, EV_valid, EV_test))\n",
    "deco_print('XS-R2: Train %0.2f\\tValid %0.2f\\tTest %0.2f' %(XSR2_train, XSR2_valid, XSR2_test))\n",
    "deco_print('(Weighted) XS-R2: Train %0.2f\\tValid %0.2f\\tTest %0.2f' %(WXSR2_train, WXSR2_valid, WXSR2_test))"
   ]
  },
  {
   "cell_type": "code",
   "execution_count": null,
   "metadata": {
    "collapsed": true,
    "jupyter": {
     "outputs_hidden": true
    }
   },
   "outputs": [],
   "source": []
  }
 ],
 "metadata": {
  "kernelspec": {
   "display_name": "Python 3",
   "language": "python",
   "name": "python3"
  },
  "language_info": {
   "codemirror_mode": {
    "name": "ipython",
    "version": 3
   },
   "file_extension": ".py",
   "mimetype": "text/x-python",
   "name": "python",
   "nbconvert_exporter": "python",
   "pygments_lexer": "ipython3",
   "version": "3.6.13"
  }
 },
 "nbformat": 4,
 "nbformat_minor": 4
}
