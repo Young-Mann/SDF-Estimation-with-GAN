{
 "cells": [
  {
   "cell_type": "code",
   "execution_count": 3,
   "metadata": {},
   "outputs": [],
   "source": [
    "import numpy as np\n",
    "import pandas as pd"
   ]
  },
  {
   "cell_type": "code",
   "execution_count": 4,
   "metadata": {},
   "outputs": [
    {
     "data": {
      "text/plain": [
       "['date', 'variable', 'data']"
      ]
     },
     "execution_count": 4,
     "metadata": {},
     "output_type": "execute_result"
    }
   ],
   "source": [
    "path = r'./datasets/RF'\n",
    "name = r'/RF_train_normalized_task_1.npz'\n",
    "a = np.load(path+name)\n",
    "a.files"
   ]
  },
  {
   "cell_type": "code",
   "execution_count": 46,
   "metadata": {},
   "outputs": [
    {
     "data": {
      "text/plain": [
       "(300, 7141, 47)"
      ]
     },
     "execution_count": 46,
     "metadata": {},
     "output_type": "execute_result"
    }
   ],
   "source": [
    "path = r'./datasets/Char'\n",
    "name = r'/Char_test.npz'\n",
    "b = np.load(path+name)\n",
    "b.files\n",
    "b['data'].shape"
   ]
  },
  {
   "cell_type": "code",
   "execution_count": 61,
   "metadata": {},
   "outputs": [
    {
     "data": {
      "text/plain": [
       "(240, 3686, 47)"
      ]
     },
     "execution_count": 61,
     "metadata": {},
     "output_type": "execute_result"
    }
   ],
   "source": [
    "a['data'].shape"
   ]
  },
  {
   "cell_type": "code",
   "execution_count": 60,
   "metadata": {},
   "outputs": [
    {
     "data": {
      "text/plain": [
       "(47,)"
      ]
     },
     "execution_count": 60,
     "metadata": {},
     "output_type": "execute_result"
    }
   ],
   "source": [
    "a['variable'].shape"
   ]
  },
  {
   "cell_type": "code",
   "execution_count": 5,
   "metadata": {},
   "outputs": [
    {
     "data": {
      "text/plain": [
       "array(['ret', 'A2ME', 'AC', 'AT', 'ATO', 'BEME', 'Beta', 'C', 'CF',\n",
       "       'CF2P', 'CTO', 'D2A', 'D2P', 'DPI2A', 'E2P', 'FC2Y', 'IdioVol',\n",
       "       'Investment', 'Lev', 'LME', 'LT_Rev', 'LTurnover', 'MktBeta', 'NI',\n",
       "       'NOA', 'OA', 'OL', 'OP', 'PCM', 'PM', 'PROF', 'Q', 'r2_1', 'r12_2',\n",
       "       'r12_7', 'r36_13', 'Rel2High', 'Resid_Var', 'RNA', 'ROA', 'ROE',\n",
       "       'S2P', 'SGA2S', 'Spread', 'ST_REV', 'SUV', 'Variance'],\n",
       "      dtype='<U10')"
      ]
     },
     "execution_count": 5,
     "metadata": {},
     "output_type": "execute_result"
    }
   ],
   "source": [
    "a['variable']"
   ]
  },
  {
   "cell_type": "code",
   "execution_count": 52,
   "metadata": {},
   "outputs": [
    {
     "data": {
      "text/html": [
       "<div>\n",
       "<style scoped>\n",
       "    .dataframe tbody tr th:only-of-type {\n",
       "        vertical-align: middle;\n",
       "    }\n",
       "\n",
       "    .dataframe tbody tr th {\n",
       "        vertical-align: top;\n",
       "    }\n",
       "\n",
       "    .dataframe thead th {\n",
       "        text-align: right;\n",
       "    }\n",
       "</style>\n",
       "<table border=\"1\" class=\"dataframe\">\n",
       "  <thead>\n",
       "    <tr style=\"text-align: right;\">\n",
       "      <th></th>\n",
       "      <th>0</th>\n",
       "      <th>1</th>\n",
       "      <th>2</th>\n",
       "      <th>3</th>\n",
       "      <th>4</th>\n",
       "      <th>5</th>\n",
       "      <th>6</th>\n",
       "      <th>7</th>\n",
       "      <th>8</th>\n",
       "      <th>9</th>\n",
       "      <th>...</th>\n",
       "      <th>37</th>\n",
       "      <th>38</th>\n",
       "      <th>39</th>\n",
       "      <th>40</th>\n",
       "      <th>41</th>\n",
       "      <th>42</th>\n",
       "      <th>43</th>\n",
       "      <th>44</th>\n",
       "      <th>45</th>\n",
       "      <th>46</th>\n",
       "    </tr>\n",
       "  </thead>\n",
       "  <tbody>\n",
       "    <tr>\n",
       "      <td>count</td>\n",
       "      <td>7141.000000</td>\n",
       "      <td>7141.000000</td>\n",
       "      <td>7141.000000</td>\n",
       "      <td>7141.000000</td>\n",
       "      <td>7141.000000</td>\n",
       "      <td>7141.000000</td>\n",
       "      <td>7141.000000</td>\n",
       "      <td>7141.000000</td>\n",
       "      <td>7141.000000</td>\n",
       "      <td>7141.000000</td>\n",
       "      <td>...</td>\n",
       "      <td>7141.000000</td>\n",
       "      <td>7141.000000</td>\n",
       "      <td>7141.000000</td>\n",
       "      <td>7141.000000</td>\n",
       "      <td>7141.000000</td>\n",
       "      <td>7141.000000</td>\n",
       "      <td>7141.000000</td>\n",
       "      <td>7141.000000</td>\n",
       "      <td>7141.000000</td>\n",
       "      <td>7141.000000</td>\n",
       "    </tr>\n",
       "    <tr>\n",
       "      <td>mean</td>\n",
       "      <td>-68.467524</td>\n",
       "      <td>-68.470956</td>\n",
       "      <td>-68.470956</td>\n",
       "      <td>-68.470956</td>\n",
       "      <td>-68.470956</td>\n",
       "      <td>-68.470956</td>\n",
       "      <td>-68.470956</td>\n",
       "      <td>-68.470956</td>\n",
       "      <td>-68.470956</td>\n",
       "      <td>-68.470956</td>\n",
       "      <td>...</td>\n",
       "      <td>-68.470956</td>\n",
       "      <td>-68.470956</td>\n",
       "      <td>-68.470956</td>\n",
       "      <td>-68.470956</td>\n",
       "      <td>-68.470956</td>\n",
       "      <td>-68.470956</td>\n",
       "      <td>-68.470956</td>\n",
       "      <td>-68.470956</td>\n",
       "      <td>-68.470956</td>\n",
       "      <td>-68.470956</td>\n",
       "    </tr>\n",
       "    <tr>\n",
       "      <td>std</td>\n",
       "      <td>46.464131</td>\n",
       "      <td>46.459311</td>\n",
       "      <td>46.459311</td>\n",
       "      <td>46.459311</td>\n",
       "      <td>46.459311</td>\n",
       "      <td>46.459311</td>\n",
       "      <td>46.459311</td>\n",
       "      <td>46.459311</td>\n",
       "      <td>46.459311</td>\n",
       "      <td>46.459311</td>\n",
       "      <td>...</td>\n",
       "      <td>46.459311</td>\n",
       "      <td>46.459311</td>\n",
       "      <td>46.459311</td>\n",
       "      <td>46.459311</td>\n",
       "      <td>46.459311</td>\n",
       "      <td>46.459311</td>\n",
       "      <td>46.459311</td>\n",
       "      <td>46.459311</td>\n",
       "      <td>46.459311</td>\n",
       "      <td>46.459311</td>\n",
       "    </tr>\n",
       "    <tr>\n",
       "      <td>min</td>\n",
       "      <td>-99.990000</td>\n",
       "      <td>-99.990000</td>\n",
       "      <td>-99.990000</td>\n",
       "      <td>-99.990000</td>\n",
       "      <td>-99.990000</td>\n",
       "      <td>-99.990000</td>\n",
       "      <td>-99.990000</td>\n",
       "      <td>-99.990000</td>\n",
       "      <td>-99.990000</td>\n",
       "      <td>-99.990000</td>\n",
       "      <td>...</td>\n",
       "      <td>-99.990000</td>\n",
       "      <td>-99.990000</td>\n",
       "      <td>-99.990000</td>\n",
       "      <td>-99.990000</td>\n",
       "      <td>-99.990000</td>\n",
       "      <td>-99.990000</td>\n",
       "      <td>-99.990000</td>\n",
       "      <td>-99.990000</td>\n",
       "      <td>-99.990000</td>\n",
       "      <td>-99.990000</td>\n",
       "    </tr>\n",
       "    <tr>\n",
       "      <td>25%</td>\n",
       "      <td>-99.990000</td>\n",
       "      <td>-99.990000</td>\n",
       "      <td>-99.990000</td>\n",
       "      <td>-99.990000</td>\n",
       "      <td>-99.990000</td>\n",
       "      <td>-99.990000</td>\n",
       "      <td>-99.990000</td>\n",
       "      <td>-99.990000</td>\n",
       "      <td>-99.990000</td>\n",
       "      <td>-99.990000</td>\n",
       "      <td>...</td>\n",
       "      <td>-99.990000</td>\n",
       "      <td>-99.990000</td>\n",
       "      <td>-99.990000</td>\n",
       "      <td>-99.990000</td>\n",
       "      <td>-99.990000</td>\n",
       "      <td>-99.990000</td>\n",
       "      <td>-99.990000</td>\n",
       "      <td>-99.990000</td>\n",
       "      <td>-99.990000</td>\n",
       "      <td>-99.990000</td>\n",
       "    </tr>\n",
       "    <tr>\n",
       "      <td>50%</td>\n",
       "      <td>-99.990000</td>\n",
       "      <td>-99.990000</td>\n",
       "      <td>-99.990000</td>\n",
       "      <td>-99.990000</td>\n",
       "      <td>-99.990000</td>\n",
       "      <td>-99.990000</td>\n",
       "      <td>-99.990000</td>\n",
       "      <td>-99.990000</td>\n",
       "      <td>-99.990000</td>\n",
       "      <td>-99.990000</td>\n",
       "      <td>...</td>\n",
       "      <td>-99.990000</td>\n",
       "      <td>-99.990000</td>\n",
       "      <td>-99.990000</td>\n",
       "      <td>-99.990000</td>\n",
       "      <td>-99.990000</td>\n",
       "      <td>-99.990000</td>\n",
       "      <td>-99.990000</td>\n",
       "      <td>-99.990000</td>\n",
       "      <td>-99.990000</td>\n",
       "      <td>-99.990000</td>\n",
       "    </tr>\n",
       "    <tr>\n",
       "      <td>75%</td>\n",
       "      <td>-0.052836</td>\n",
       "      <td>-0.293333</td>\n",
       "      <td>-0.293333</td>\n",
       "      <td>-0.293333</td>\n",
       "      <td>-0.293333</td>\n",
       "      <td>-0.293333</td>\n",
       "      <td>-0.293333</td>\n",
       "      <td>-0.293333</td>\n",
       "      <td>-0.293333</td>\n",
       "      <td>-0.293333</td>\n",
       "      <td>...</td>\n",
       "      <td>-0.293333</td>\n",
       "      <td>-0.293333</td>\n",
       "      <td>-0.293333</td>\n",
       "      <td>-0.293333</td>\n",
       "      <td>-0.293333</td>\n",
       "      <td>-0.293333</td>\n",
       "      <td>-0.293333</td>\n",
       "      <td>-0.293333</td>\n",
       "      <td>-0.293333</td>\n",
       "      <td>-0.293333</td>\n",
       "    </tr>\n",
       "    <tr>\n",
       "      <td>max</td>\n",
       "      <td>0.724038</td>\n",
       "      <td>0.500000</td>\n",
       "      <td>0.500000</td>\n",
       "      <td>0.500000</td>\n",
       "      <td>0.500000</td>\n",
       "      <td>0.500000</td>\n",
       "      <td>0.500000</td>\n",
       "      <td>0.500000</td>\n",
       "      <td>0.500000</td>\n",
       "      <td>0.500000</td>\n",
       "      <td>...</td>\n",
       "      <td>0.500000</td>\n",
       "      <td>0.500000</td>\n",
       "      <td>0.500000</td>\n",
       "      <td>0.500000</td>\n",
       "      <td>0.500000</td>\n",
       "      <td>0.500000</td>\n",
       "      <td>0.500000</td>\n",
       "      <td>0.500000</td>\n",
       "      <td>0.500000</td>\n",
       "      <td>0.500000</td>\n",
       "    </tr>\n",
       "  </tbody>\n",
       "</table>\n",
       "<p>8 rows × 47 columns</p>\n",
       "</div>"
      ],
      "text/plain": [
       "                0            1            2            3            4   \\\n",
       "count  7141.000000  7141.000000  7141.000000  7141.000000  7141.000000   \n",
       "mean    -68.467524   -68.470956   -68.470956   -68.470956   -68.470956   \n",
       "std      46.464131    46.459311    46.459311    46.459311    46.459311   \n",
       "min     -99.990000   -99.990000   -99.990000   -99.990000   -99.990000   \n",
       "25%     -99.990000   -99.990000   -99.990000   -99.990000   -99.990000   \n",
       "50%     -99.990000   -99.990000   -99.990000   -99.990000   -99.990000   \n",
       "75%      -0.052836    -0.293333    -0.293333    -0.293333    -0.293333   \n",
       "max       0.724038     0.500000     0.500000     0.500000     0.500000   \n",
       "\n",
       "                5            6            7            8            9   ...  \\\n",
       "count  7141.000000  7141.000000  7141.000000  7141.000000  7141.000000  ...   \n",
       "mean    -68.470956   -68.470956   -68.470956   -68.470956   -68.470956  ...   \n",
       "std      46.459311    46.459311    46.459311    46.459311    46.459311  ...   \n",
       "min     -99.990000   -99.990000   -99.990000   -99.990000   -99.990000  ...   \n",
       "25%     -99.990000   -99.990000   -99.990000   -99.990000   -99.990000  ...   \n",
       "50%     -99.990000   -99.990000   -99.990000   -99.990000   -99.990000  ...   \n",
       "75%      -0.293333    -0.293333    -0.293333    -0.293333    -0.293333  ...   \n",
       "max       0.500000     0.500000     0.500000     0.500000     0.500000  ...   \n",
       "\n",
       "                37           38           39           40           41  \\\n",
       "count  7141.000000  7141.000000  7141.000000  7141.000000  7141.000000   \n",
       "mean    -68.470956   -68.470956   -68.470956   -68.470956   -68.470956   \n",
       "std      46.459311    46.459311    46.459311    46.459311    46.459311   \n",
       "min     -99.990000   -99.990000   -99.990000   -99.990000   -99.990000   \n",
       "25%     -99.990000   -99.990000   -99.990000   -99.990000   -99.990000   \n",
       "50%     -99.990000   -99.990000   -99.990000   -99.990000   -99.990000   \n",
       "75%      -0.293333    -0.293333    -0.293333    -0.293333    -0.293333   \n",
       "max       0.500000     0.500000     0.500000     0.500000     0.500000   \n",
       "\n",
       "                42           43           44           45           46  \n",
       "count  7141.000000  7141.000000  7141.000000  7141.000000  7141.000000  \n",
       "mean    -68.470956   -68.470956   -68.470956   -68.470956   -68.470956  \n",
       "std      46.459311    46.459311    46.459311    46.459311    46.459311  \n",
       "min     -99.990000   -99.990000   -99.990000   -99.990000   -99.990000  \n",
       "25%     -99.990000   -99.990000   -99.990000   -99.990000   -99.990000  \n",
       "50%     -99.990000   -99.990000   -99.990000   -99.990000   -99.990000  \n",
       "75%      -0.293333    -0.293333    -0.293333    -0.293333    -0.293333  \n",
       "max       0.500000     0.500000     0.500000     0.500000     0.500000  \n",
       "\n",
       "[8 rows x 47 columns]"
      ]
     },
     "execution_count": 52,
     "metadata": {},
     "output_type": "execute_result"
    }
   ],
   "source": [
    "pd.DataFrame(b['data'][250]).describe()"
   ]
  },
  {
   "cell_type": "code",
   "execution_count": 49,
   "metadata": {},
   "outputs": [
    {
     "data": {
      "text/plain": [
       "array([[-99.99, -99.99, -99.99, ..., -99.99, -99.99, -99.99],\n",
       "       [-99.99, -99.99, -99.99, ..., -99.99, -99.99, -99.99],\n",
       "       [-99.99, -99.99, -99.99, ..., -99.99, -99.99, -99.99],\n",
       "       ...,\n",
       "       [-99.99, -99.99, -99.99, ..., -99.99, -99.99, -99.99],\n",
       "       [-99.99, -99.99, -99.99, ..., -99.99, -99.99, -99.99],\n",
       "       [-99.99, -99.99, -99.99, ..., -99.99, -99.99, -99.99]])"
      ]
     },
     "execution_count": 49,
     "metadata": {},
     "output_type": "execute_result"
    }
   ],
   "source": [
    "b['data'][200]"
   ]
  },
  {
   "cell_type": "code",
   "execution_count": 31,
   "metadata": {},
   "outputs": [
    {
     "ename": "ValueError",
     "evalue": "Type must be a sub-type of ndarray type",
     "output_type": "error",
     "traceback": [
      "\u001b[1;31m---------------------------------------------------------------------------\u001b[0m",
      "\u001b[1;31mValueError\u001b[0m                                Traceback (most recent call last)",
      "\u001b[1;32m<ipython-input-31-2a1a1d7d6ffd>\u001b[0m in \u001b[0;36m<module>\u001b[1;34m\u001b[0m\n\u001b[1;32m----> 1\u001b[1;33m \u001b[0mt\u001b[0m \u001b[1;33m=\u001b[0m \u001b[0mpd\u001b[0m\u001b[1;33m.\u001b[0m\u001b[0mDataFrame\u001b[0m\u001b[1;33m(\u001b[0m\u001b[0mdata\u001b[0m \u001b[1;33m=\u001b[0m \u001b[0ma\u001b[0m\u001b[1;33m[\u001b[0m\u001b[1;34m'data'\u001b[0m\u001b[1;33m]\u001b[0m\u001b[1;33m.\u001b[0m\u001b[0mview\u001b[0m\u001b[1;33m(\u001b[0m\u001b[1;36m240\u001b[0m\u001b[1;33m,\u001b[0m\u001b[1;36m47\u001b[0m\u001b[1;33m)\u001b[0m\u001b[1;33m,\u001b[0m \u001b[0mcolumns\u001b[0m\u001b[1;33m=\u001b[0m\u001b[0ma\u001b[0m\u001b[1;33m[\u001b[0m\u001b[1;34m'variable'\u001b[0m\u001b[1;33m]\u001b[0m\u001b[1;33m,\u001b[0m \u001b[0mindex\u001b[0m\u001b[1;33m=\u001b[0m\u001b[0ma\u001b[0m\u001b[1;33m[\u001b[0m\u001b[1;34m'date'\u001b[0m\u001b[1;33m]\u001b[0m\u001b[1;33m)\u001b[0m\u001b[1;33m\u001b[0m\u001b[1;33m\u001b[0m\u001b[0m\n\u001b[0m\u001b[0;32m      2\u001b[0m \u001b[0mnp\u001b[0m\u001b[1;33m.\u001b[0m\u001b[0msavez\u001b[0m\u001b[1;33m(\u001b[0m\u001b[1;34m'wewew.npz'\u001b[0m\u001b[1;33m,\u001b[0m\u001b[0mt\u001b[0m\u001b[1;33m.\u001b[0m\u001b[0mvalues\u001b[0m\u001b[1;33m)\u001b[0m\u001b[1;33m\u001b[0m\u001b[1;33m\u001b[0m\u001b[0m\n",
      "\u001b[1;31mValueError\u001b[0m: Type must be a sub-type of ndarray type"
     ]
    }
   ],
   "source": [
    "t = pd.DataFrame(data = a['data'].view(240,47), columns=a['variable'], index=a['date'])\n",
    "np.savez('wewew.npz',t.values)"
   ]
  },
  {
   "cell_type": "code",
   "execution_count": 24,
   "metadata": {},
   "outputs": [
    {
     "data": {
      "text/plain": [
       "(240, 178)"
      ]
     },
     "execution_count": 24,
     "metadata": {},
     "output_type": "execute_result"
    }
   ],
   "source": [
    "b = np.load('wewew.npz')\n",
    "b.files\n",
    "b['arr_0'].shape"
   ]
  }
 ],
 "metadata": {
  "kernelspec": {
   "display_name": "Python 3",
   "language": "python",
   "name": "python3"
  },
  "language_info": {
   "codemirror_mode": {
    "name": "ipython",
    "version": 3
   },
   "file_extension": ".py",
   "mimetype": "text/x-python",
   "name": "python",
   "nbconvert_exporter": "python",
   "pygments_lexer": "ipython3",
   "version": "3.7.4"
  }
 },
 "nbformat": 4,
 "nbformat_minor": 2
}
